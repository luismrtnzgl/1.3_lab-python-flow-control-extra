{
 "cells": [
  {
   "cell_type": "markdown",
   "id": "d3bfc191-8885-42ee-b0a0-bbab867c6f9f",
   "metadata": {
    "tags": []
   },
   "source": [
    "# Lab | Flow Control"
   ]
  },
  {
   "cell_type": "markdown",
   "id": "303cceb0-f898-4c5f-99bd-c04e131e1ded",
   "metadata": {},
   "source": [
    "Objective: Practice how to use programming constructs like if/else statements and loops to control the flow of a program's execution."
   ]
  },
  {
   "cell_type": "markdown",
   "id": "42fd260a-9eb2-4c39-9989-f2c8c70552ec",
   "metadata": {},
   "source": [
    "## Challenge: The Haunted Mansion"
   ]
  },
  {
   "cell_type": "markdown",
   "id": "7086f8f7-ded2-48e5-b966-7ec44fb57ca5",
   "metadata": {},
   "source": [
    "You are a brave adventurer who has decided to explore the Haunted Mansion, a decrepit old building that is rumored to be haunted by ghosts and spirits. Your objective is to find the treasure that is hidden somewhere in the mansion.\n",
    "\n",
    "## Requirements\n",
    "\n",
    "- Your script should have at least two functions: \"run_mansion()\" and \"encounter_ghost()\".\n",
    "- Your script should use if-else statements, while loops, for loops, combined loops, or nested loops to control the flow of execution.\n",
    "- Your script should prompt the user for input to make decisions on which path to take or what actions to perform.\n",
    "- Your script should include random events and obstacles that can either help or hinder the adventurer in their quest.\n",
    "- Your script should have an objective of finding the treasure at the end of the mansion.\n",
    "\n",
    "## Instructions\n",
    "\n",
    "- Begin by creating a list of items that the adventurer can pick up along the way. These items will be used to help the adventurer overcome obstacles and defeat ghosts. Examples of items can be weapons, potions, keys, etc.\n",
    "\n",
    "- Complete the function called \"run_mansion()\" that serves as the main function for the game. Within \"run_mansion()\", prompt the user to choose a path to take at each intersection. Each path should have its unique challenges and obstacles that the adventurer must overcome.\n",
    "\n",
    "- Use loops to check if the adventurer has enough health points to continue the game. If their health points drop to zero, the game is over.\n",
    "\n",
    "- Complete the function called \"encounter_ghost()\" that will be used to handle ghost encounters. The function should use random events to determine the outcome of the encounter, and the adventurer should use their items to help them defeat the ghost.\n",
    "\n",
    "- Use loops to generate random events or items along the way. These events can either help or hinder the adventurer, and the outcome should be based on random chance.\n",
    "\n",
    "- At the end of the mansion, the adventurer will find the treasure, and the game will end.\n",
    "\n"
   ]
  },
  {
   "cell_type": "markdown",
   "id": "8846d61d-cf9d-4ad4-bbb8-1ecb3bb22005",
   "metadata": {},
   "source": [
    "*Introduction to Functions*:\n",
    "\n",
    "    Functions are blocks of code that perform a specific task. They are used to break up complex code into smaller, more manageable parts, which can make your code easier to read and understand. Functions can also be reused multiple times throughout your code, which can save you a lot of time and effort.\n",
    "\n",
    "    Functions are defined using the def keyword, followed by the name of the function and a set of parentheses. Inside the parentheses, you can list any arguments that the function needs in order to perform its task. These arguments are optional, but they can be useful if you need to pass data into the function from outside.\n",
    "\n",
    "    Once you have defined a function, you can call it from anywhere in your code using its name and passing any necessary arguments. When the function is called, the code inside it is executed, and any values that it returns are passed back to the calling code.\n",
    "\n",
    "    In this exercise, we have defined a function called encounter_ghost that simulates a battle between the adventurer and a ghost, and run_mansion. Your task is to complete these functions by using flow control statements such as if, else, while, for loops, and nested loops. Remember to pay attention to the instructions and comments provided in the function to help guide you. Once you have completed the function encounter_ghost, you can call it from the main code to simulate the battle and test your implementation.\n",
    "\n",
    "    Good luck!"
   ]
  },
  {
   "cell_type": "code",
   "execution_count": 4,
   "id": "499552c8-9e30-46e1-a706-4ac5dc64670e",
   "metadata": {},
   "outputs": [],
   "source": [
    "def encounter_ghost():\n",
    "    \"\"\"\n",
    "    This function handles the encounter with a ghost. \n",
    "    The outcome of the battle is determined by a random number between 1 and 10.\n",
    "    If the random number is less than or equal to 5, the adventurer defeats the ghost. In this case, print the message \"You defeated the ghost!\" \n",
    "    and return something that indicates the adventurer defeated the ghost.\n",
    "    If the random number is greater than 5, the adventurer loses the battle. In this case, print \"You lost the battle...\"\n",
    "    and return something that indicates the ghost defeated the adventurer.\n",
    "    \"\"\"\n",
    "    print(\"You encounter a ghost!\")\n",
    "    resultado = input(\"¿Quieres luchar contra el fantasma? (si/no): \").strip().lower()\n",
    "    \n",
    "    if resultado == \"si\":\n",
    "        print(\"¡Has derrotado al fantasma!\")\n",
    "        return \"victoria\"\n",
    "    else:\n",
    "        print(\"Has perdido la batalla contra el fantasma...\")\n",
    "        return \"derrota\"\n"
   ]
  },
  {
   "cell_type": "code",
   "execution_count": 5,
   "id": "d3e4076b-48cc-41ac-95ad-891743e775f5",
   "metadata": {},
   "outputs": [],
   "source": [
    "# main function for the game\n",
    "def run_mansion():\n",
    "    \n",
    "    print(\"Welcome to the Haunted Mansion!\")\n",
    "    salud = 10  # Puntos de vida del aventurero\n",
    "    objetos = []  # Lista de objetos recogidos\n",
    "    \n",
    "    while salud > 0:\n",
    "        print(\"Te encuentras en un pasillo oscuro con tres caminos: 'izquierda', 'derecha' o 'recto'.\")\n",
    "        eleccion = input(\"¿Qué camino eliges? (izquierda/derecha/recto): \").strip().lower()\n",
    "        \n",
    "        if eleccion == \"izquierda\":\n",
    "            print(\"Decides ir a la izquierda...\")\n",
    "            evento = input(\"El camino es tenebroso. ¿Quieres buscar algo en la oscuridad? (si/no): \").strip().lower()\n",
    "            \n",
    "            if evento == \"si\":\n",
    "                print(\"¡Has encontrado una poción de salud!\")\n",
    "                objetos.append(\"Potion\")\n",
    "            else:\n",
    "                print(\"¡Unas ramas enredadas te hacen tropezar y pierdes 3 puntos de salud!\")\n",
    "                salud -= 3\n",
    "        \n",
    "        elif eleccion == \"derecha\":\n",
    "            resultado_batalla = encounter_ghost()\n",
    "            \n",
    "            if resultado_batalla == \"victoria\":\n",
    "                print(\"¡Has encontrado una llave misteriosa!\")\n",
    "                objetos.append(\"Key\")\n",
    "            else:\n",
    "                print(\"El fantasma te ha herido y pierdes 3 puntos de salud.\")\n",
    "                salud -= 3\n",
    "        \n",
    "        elif eleccion == \"recto\":\n",
    "            print(\"Decides avanzar recto y el suelo cede bajo tus pies...\")\n",
    "            accion = input(\"¿Intentas saltar o te preparas para la caída? (saltar/caer): \").strip().lower()\n",
    "            \n",
    "            if accion == \"saltar\":\n",
    "                print(\"¡Lograste evitar la caída, pero te raspaste y pierdes 2 puntos de salud!\")\n",
    "                salud -= 2\n",
    "            else:\n",
    "                print(\"Has caído en un pozo y pierdes 4 puntos de salud.\")\n",
    "                salud -= 4\n",
    "        \n",
    "        else:\n",
    "            print(\"Opción no válida. Intenta de nuevo.\")\n",
    "            continue\n",
    "        \n",
    "        print(f\"Salud actual: {salud}\")\n",
    "        print(f\"Objetos recogidos: {objetos}\")\n",
    "        \n",
    "        if salud <= 0:\n",
    "            print(\"Game over, perdiste todos tus puntos de salud.\")\n",
    "            return\n",
    "        \n",
    "        if \"Key\" in objetos:\n",
    "            print(\"Has encontrado la puerta del tesoro. Usas la llave para abrirla...\")\n",
    "            print(\"¡Felicidades! Has encontrado el tesoro escondido en la Mansión Embrujada.\")\n",
    "            return\n",
    "\n",
    "    print(\"No encontraste la llave. Debes seguir explorando.\")\n",
    "\n"
   ]
  },
  {
   "cell_type": "markdown",
   "id": "9e13a33c-38e5-44b3-bd1b-9a642c962c89",
   "metadata": {},
   "source": [
    "To run the game, simply call the run_mansion() function:"
   ]
  },
  {
   "cell_type": "code",
   "execution_count": 6,
   "id": "f238dc90-0be2-4d8c-93e9-30a1dc8a5b72",
   "metadata": {},
   "outputs": [
    {
     "name": "stdout",
     "output_type": "stream",
     "text": [
      "Welcome to the Haunted Mansion!\n",
      "Te encuentras en un pasillo oscuro. Puedes ir a la 'izquierda' o a la 'derecha'.\n",
      "Decides ir a la izquierda...\n",
      "¡Has encontrado una poción de salud!\n",
      "Salud actual: 10\n",
      "Objetos recogidos: ['Potion']\n",
      "Te encuentras en un pasillo oscuro. Puedes ir a la 'izquierda' o a la 'derecha'.\n",
      "Decides ir a la izquierda...\n",
      "¡Has caído en una trampa y pierdes 2 puntos de salud!\n",
      "Salud actual: 8\n",
      "Objetos recogidos: ['Potion']\n",
      "Te encuentras en un pasillo oscuro. Puedes ir a la 'izquierda' o a la 'derecha'.\n",
      "Opción no válida. Intenta de nuevo.\n",
      "Te encuentras en un pasillo oscuro. Puedes ir a la 'izquierda' o a la 'derecha'.\n",
      "Opción no válida. Intenta de nuevo.\n",
      "Te encuentras en un pasillo oscuro. Puedes ir a la 'izquierda' o a la 'derecha'.\n",
      "Opción no válida. Intenta de nuevo.\n",
      "Te encuentras en un pasillo oscuro. Puedes ir a la 'izquierda' o a la 'derecha'.\n",
      "Opción no válida. Intenta de nuevo.\n",
      "Te encuentras en un pasillo oscuro. Puedes ir a la 'izquierda' o a la 'derecha'.\n",
      "Opción no válida. Intenta de nuevo.\n",
      "Te encuentras en un pasillo oscuro. Puedes ir a la 'izquierda' o a la 'derecha'.\n",
      "Opción no válida. Intenta de nuevo.\n",
      "Te encuentras en un pasillo oscuro. Puedes ir a la 'izquierda' o a la 'derecha'.\n",
      "Opción no válida. Intenta de nuevo.\n",
      "Te encuentras en un pasillo oscuro. Puedes ir a la 'izquierda' o a la 'derecha'.\n",
      "Opción no válida. Intenta de nuevo.\n",
      "Te encuentras en un pasillo oscuro. Puedes ir a la 'izquierda' o a la 'derecha'.\n",
      "Opción no válida. Intenta de nuevo.\n",
      "Te encuentras en un pasillo oscuro. Puedes ir a la 'izquierda' o a la 'derecha'.\n",
      "Opción no válida. Intenta de nuevo.\n",
      "Te encuentras en un pasillo oscuro. Puedes ir a la 'izquierda' o a la 'derecha'.\n",
      "Opción no válida. Intenta de nuevo.\n",
      "Te encuentras en un pasillo oscuro. Puedes ir a la 'izquierda' o a la 'derecha'.\n",
      "Opción no válida. Intenta de nuevo.\n",
      "Te encuentras en un pasillo oscuro. Puedes ir a la 'izquierda' o a la 'derecha'.\n"
     ]
    },
    {
     "ename": "KeyboardInterrupt",
     "evalue": "Interrupted by user",
     "output_type": "error",
     "traceback": [
      "\u001b[0;31m---------------------------------------------------------------------------\u001b[0m",
      "\u001b[0;31mKeyboardInterrupt\u001b[0m                         Traceback (most recent call last)",
      "Cell \u001b[0;32mIn[6], line 1\u001b[0m\n\u001b[0;32m----> 1\u001b[0m \u001b[43mrun_mansion\u001b[49m\u001b[43m(\u001b[49m\u001b[43m)\u001b[49m\n",
      "Cell \u001b[0;32mIn[5], line 10\u001b[0m, in \u001b[0;36mrun_mansion\u001b[0;34m()\u001b[0m\n\u001b[1;32m      8\u001b[0m \u001b[38;5;28;01mwhile\u001b[39;00m salud \u001b[38;5;241m>\u001b[39m \u001b[38;5;241m0\u001b[39m:\n\u001b[1;32m      9\u001b[0m     \u001b[38;5;28mprint\u001b[39m(\u001b[38;5;124m\"\u001b[39m\u001b[38;5;124mTe encuentras en un pasillo oscuro. Puedes ir a la \u001b[39m\u001b[38;5;124m'\u001b[39m\u001b[38;5;124mizquierda\u001b[39m\u001b[38;5;124m'\u001b[39m\u001b[38;5;124m o a la \u001b[39m\u001b[38;5;124m'\u001b[39m\u001b[38;5;124mderecha\u001b[39m\u001b[38;5;124m'\u001b[39m\u001b[38;5;124m.\u001b[39m\u001b[38;5;124m\"\u001b[39m)\n\u001b[0;32m---> 10\u001b[0m     eleccion \u001b[38;5;241m=\u001b[39m \u001b[38;5;28;43minput\u001b[39;49m\u001b[43m(\u001b[49m\u001b[38;5;124;43m\"\u001b[39;49m\u001b[38;5;124;43m¿Qué camino eliges? (izquierda/derecha): \u001b[39;49m\u001b[38;5;124;43m\"\u001b[39;49m\u001b[43m)\u001b[49m\u001b[38;5;241m.\u001b[39mstrip()\u001b[38;5;241m.\u001b[39mlower()\n\u001b[1;32m     12\u001b[0m     \u001b[38;5;28;01mif\u001b[39;00m eleccion \u001b[38;5;241m==\u001b[39m \u001b[38;5;124m\"\u001b[39m\u001b[38;5;124mizquierda\u001b[39m\u001b[38;5;124m\"\u001b[39m:\n\u001b[1;32m     13\u001b[0m         \u001b[38;5;28mprint\u001b[39m(\u001b[38;5;124m\"\u001b[39m\u001b[38;5;124mDecides ir a la izquierda...\u001b[39m\u001b[38;5;124m\"\u001b[39m)\n",
      "File \u001b[0;32m~/Library/Python/3.9/lib/python/site-packages/ipykernel/kernelbase.py:1282\u001b[0m, in \u001b[0;36mKernel.raw_input\u001b[0;34m(self, prompt)\u001b[0m\n\u001b[1;32m   1280\u001b[0m     msg \u001b[38;5;241m=\u001b[39m \u001b[38;5;124m\"\u001b[39m\u001b[38;5;124mraw_input was called, but this frontend does not support input requests.\u001b[39m\u001b[38;5;124m\"\u001b[39m\n\u001b[1;32m   1281\u001b[0m     \u001b[38;5;28;01mraise\u001b[39;00m StdinNotImplementedError(msg)\n\u001b[0;32m-> 1282\u001b[0m \u001b[38;5;28;01mreturn\u001b[39;00m \u001b[38;5;28;43mself\u001b[39;49m\u001b[38;5;241;43m.\u001b[39;49m\u001b[43m_input_request\u001b[49m\u001b[43m(\u001b[49m\n\u001b[1;32m   1283\u001b[0m \u001b[43m    \u001b[49m\u001b[38;5;28;43mstr\u001b[39;49m\u001b[43m(\u001b[49m\u001b[43mprompt\u001b[49m\u001b[43m)\u001b[49m\u001b[43m,\u001b[49m\n\u001b[1;32m   1284\u001b[0m \u001b[43m    \u001b[49m\u001b[38;5;28;43mself\u001b[39;49m\u001b[38;5;241;43m.\u001b[39;49m\u001b[43m_parent_ident\u001b[49m\u001b[43m[\u001b[49m\u001b[38;5;124;43m\"\u001b[39;49m\u001b[38;5;124;43mshell\u001b[39;49m\u001b[38;5;124;43m\"\u001b[39;49m\u001b[43m]\u001b[49m\u001b[43m,\u001b[49m\n\u001b[1;32m   1285\u001b[0m \u001b[43m    \u001b[49m\u001b[38;5;28;43mself\u001b[39;49m\u001b[38;5;241;43m.\u001b[39;49m\u001b[43mget_parent\u001b[49m\u001b[43m(\u001b[49m\u001b[38;5;124;43m\"\u001b[39;49m\u001b[38;5;124;43mshell\u001b[39;49m\u001b[38;5;124;43m\"\u001b[39;49m\u001b[43m)\u001b[49m\u001b[43m,\u001b[49m\n\u001b[1;32m   1286\u001b[0m \u001b[43m    \u001b[49m\u001b[43mpassword\u001b[49m\u001b[38;5;241;43m=\u001b[39;49m\u001b[38;5;28;43;01mFalse\u001b[39;49;00m\u001b[43m,\u001b[49m\n\u001b[1;32m   1287\u001b[0m \u001b[43m\u001b[49m\u001b[43m)\u001b[49m\n",
      "File \u001b[0;32m~/Library/Python/3.9/lib/python/site-packages/ipykernel/kernelbase.py:1325\u001b[0m, in \u001b[0;36mKernel._input_request\u001b[0;34m(self, prompt, ident, parent, password)\u001b[0m\n\u001b[1;32m   1322\u001b[0m \u001b[38;5;28;01mexcept\u001b[39;00m \u001b[38;5;167;01mKeyboardInterrupt\u001b[39;00m:\n\u001b[1;32m   1323\u001b[0m     \u001b[38;5;66;03m# re-raise KeyboardInterrupt, to truncate traceback\u001b[39;00m\n\u001b[1;32m   1324\u001b[0m     msg \u001b[38;5;241m=\u001b[39m \u001b[38;5;124m\"\u001b[39m\u001b[38;5;124mInterrupted by user\u001b[39m\u001b[38;5;124m\"\u001b[39m\n\u001b[0;32m-> 1325\u001b[0m     \u001b[38;5;28;01mraise\u001b[39;00m \u001b[38;5;167;01mKeyboardInterrupt\u001b[39;00m(msg) \u001b[38;5;28;01mfrom\u001b[39;00m\u001b[38;5;250m \u001b[39m\u001b[38;5;28;01mNone\u001b[39;00m\n\u001b[1;32m   1326\u001b[0m \u001b[38;5;28;01mexcept\u001b[39;00m \u001b[38;5;167;01mException\u001b[39;00m:\n\u001b[1;32m   1327\u001b[0m     \u001b[38;5;28mself\u001b[39m\u001b[38;5;241m.\u001b[39mlog\u001b[38;5;241m.\u001b[39mwarning(\u001b[38;5;124m\"\u001b[39m\u001b[38;5;124mInvalid Message:\u001b[39m\u001b[38;5;124m\"\u001b[39m, exc_info\u001b[38;5;241m=\u001b[39m\u001b[38;5;28;01mTrue\u001b[39;00m)\n",
      "\u001b[0;31mKeyboardInterrupt\u001b[0m: Interrupted by user"
     ]
    }
   ],
   "source": [
    "run_mansion()"
   ]
  },
  {
   "cell_type": "markdown",
   "id": "88212f63-3bdb-479f-bf6c-4ecd0685d39a",
   "metadata": {},
   "source": [
    "This should print the game's narrative and prompt the user to make choices and fight ghosts. The game ends when the adventurer finds the key or loses all their health points. "
   ]
  }
 ],
 "metadata": {
  "kernelspec": {
   "display_name": "Python 3",
   "language": "python",
   "name": "python3"
  },
  "language_info": {
   "codemirror_mode": {
    "name": "ipython",
    "version": 3
   },
   "file_extension": ".py",
   "mimetype": "text/x-python",
   "name": "python",
   "nbconvert_exporter": "python",
   "pygments_lexer": "ipython3",
   "version": "3.9.6"
  }
 },
 "nbformat": 4,
 "nbformat_minor": 5
}
